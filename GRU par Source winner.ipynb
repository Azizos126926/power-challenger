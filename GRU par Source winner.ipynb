{
 "cells": [
  {
   "cell_type": "code",
   "execution_count": 2,
   "id": "9b3d3f7d",
   "metadata": {},
   "outputs": [],
   "source": [
    "import pandas as pd\n",
    "import numpy as np\n",
    "import zipfile\n",
    "import matplotlib.pyplot as plt\n",
    "from tensorflow.keras.losses import MeanSquaredError\n",
    "from tensorflow.keras.metrics import RootMeanSquaredError\n",
    "from tensorflow.keras.optimizers import Adam\n",
    "from sklearn.preprocessing import MinMaxScaler\n",
    "from sklearn.metrics import mean_squared_error as mean_squared_error\n",
    "from tensorflow.keras.layers import InputLayer, LSTM, Dense\n",
    "from tensorflow.keras.models import Sequential\n",
    "import gc\n",
    "from sklearn.linear_model import LinearRegression\n",
    "\n",
    "from tensorflow.keras.layers import InputLayer, LSTM, Dense\n",
    "from tensorflow.keras.models import Sequential\n",
    "import warnings\n",
    "warnings.filterwarnings('ignore')"
   ]
  },
  {
   "cell_type": "code",
   "execution_count": null,
   "id": "faa19ed5",
   "metadata": {},
   "outputs": [],
   "source": []
  },
  {
   "cell_type": "code",
   "execution_count": null,
   "id": "87809a2c",
   "metadata": {},
   "outputs": [],
   "source": []
  },
  {
   "cell_type": "code",
   "execution_count": null,
   "id": "8c12cde2",
   "metadata": {},
   "outputs": [],
   "source": []
  },
  {
   "cell_type": "code",
   "execution_count": null,
   "id": "85c11ec4",
   "metadata": {},
   "outputs": [],
   "source": []
  },
  {
   "cell_type": "code",
   "execution_count": 3,
   "id": "48eded10",
   "metadata": {},
   "outputs": [],
   "source": [
    "agg_data1 = pd.read_csv(\"aggday.csv\")\n"
   ]
  },
  {
   "cell_type": "code",
   "execution_count": 4,
   "id": "23ccb276",
   "metadata": {
    "scrolled": true
   },
   "outputs": [
    {
     "data": {
      "text/plain": [
       "{'consumer_device_10_data_user_10',\n",
       " 'consumer_device_10_data_user_11',\n",
       " 'consumer_device_10_data_user_2',\n",
       " 'consumer_device_10_data_user_6',\n",
       " 'consumer_device_10_data_user_7',\n",
       " 'consumer_device_10_data_user_9',\n",
       " 'consumer_device_12_data_user_4',\n",
       " 'consumer_device_12_data_user_5',\n",
       " 'consumer_device_12_data_user_6',\n",
       " 'consumer_device_13_data_user_1',\n",
       " 'consumer_device_13_data_user_10',\n",
       " 'consumer_device_13_data_user_11',\n",
       " 'consumer_device_13_data_user_12',\n",
       " 'consumer_device_13_data_user_13',\n",
       " 'consumer_device_13_data_user_4',\n",
       " 'consumer_device_13_data_user_5',\n",
       " 'consumer_device_13_data_user_6',\n",
       " 'consumer_device_13_data_user_7',\n",
       " 'consumer_device_13_data_user_8',\n",
       " 'consumer_device_13_data_user_9',\n",
       " 'consumer_device_18_data_user_10',\n",
       " 'consumer_device_18_data_user_11',\n",
       " 'consumer_device_18_data_user_12',\n",
       " 'consumer_device_18_data_user_4',\n",
       " 'consumer_device_18_data_user_5',\n",
       " 'consumer_device_18_data_user_6',\n",
       " 'consumer_device_18_data_user_7',\n",
       " 'consumer_device_18_data_user_8',\n",
       " 'consumer_device_18_data_user_9',\n",
       " 'consumer_device_19_data_user_3',\n",
       " 'consumer_device_19_data_user_5',\n",
       " 'consumer_device_19_data_user_6',\n",
       " 'consumer_device_20_data_user_3',\n",
       " 'consumer_device_20_data_user_4',\n",
       " 'consumer_device_21_data_user_10',\n",
       " 'consumer_device_21_data_user_3',\n",
       " 'consumer_device_21_data_user_5',\n",
       " 'consumer_device_22_data_user_2',\n",
       " 'consumer_device_22_data_user_3',\n",
       " 'consumer_device_22_data_user_4',\n",
       " 'consumer_device_23_data_user_2',\n",
       " 'consumer_device_23_data_user_4',\n",
       " 'consumer_device_25_data_user_12',\n",
       " 'consumer_device_25_data_user_9',\n",
       " 'consumer_device_28_data_user_1',\n",
       " 'consumer_device_28_data_user_10',\n",
       " 'consumer_device_28_data_user_16',\n",
       " 'consumer_device_28_data_user_2',\n",
       " 'consumer_device_28_data_user_4',\n",
       " 'consumer_device_28_data_user_5',\n",
       " 'consumer_device_28_data_user_7',\n",
       " 'consumer_device_28_data_user_8',\n",
       " 'consumer_device_28_data_user_9',\n",
       " 'consumer_device_29_data_user_3',\n",
       " 'consumer_device_29_data_user_5',\n",
       " 'consumer_device_29_data_user_7',\n",
       " 'consumer_device_2_data_user_1',\n",
       " 'consumer_device_2_data_user_2',\n",
       " 'consumer_device_2_data_user_3',\n",
       " 'consumer_device_30_data_user_3',\n",
       " 'consumer_device_30_data_user_4',\n",
       " 'consumer_device_30_data_user_7',\n",
       " 'consumer_device_32_data_user_19',\n",
       " 'consumer_device_32_data_user_4',\n",
       " 'consumer_device_32_data_user_5',\n",
       " 'consumer_device_35_data_user_2',\n",
       " 'consumer_device_37_data_user_4',\n",
       " 'consumer_device_37_data_user_5',\n",
       " 'consumer_device_37_data_user_8',\n",
       " 'consumer_device_38_data_user_1',\n",
       " 'consumer_device_38_data_user_10',\n",
       " 'consumer_device_5_data_user_3',\n",
       " 'consumer_device_5_data_user_6',\n",
       " 'consumer_device_5_data_user_8',\n",
       " 'consumer_device_7_data_user_1',\n",
       " 'consumer_device_7_data_user_2',\n",
       " 'consumer_device_7_data_user_3',\n",
       " 'consumer_device_7_data_user_4',\n",
       " 'consumer_device_7_data_user_5'}"
      ]
     },
     "execution_count": 4,
     "metadata": {},
     "output_type": "execute_result"
    }
   ],
   "source": [
    "set(agg_data1[agg_data1['kwh']>20]['Source'])"
   ]
  },
  {
   "cell_type": "code",
   "execution_count": null,
   "id": "50888a81",
   "metadata": {},
   "outputs": [],
   "source": []
  },
  {
   "cell_type": "code",
   "execution_count": null,
   "id": "dec2272c",
   "metadata": {},
   "outputs": [],
   "source": []
  },
  {
   "cell_type": "code",
   "execution_count": null,
   "id": "78c8d212",
   "metadata": {},
   "outputs": [],
   "source": []
  },
  {
   "cell_type": "code",
   "execution_count": 5,
   "id": "634d4df5",
   "metadata": {},
   "outputs": [],
   "source": [
    "aggregated_data = pd.read_csv(\"Data/Data.csv\")\n"
   ]
  },
  {
   "cell_type": "code",
   "execution_count": null,
   "id": "0e002675",
   "metadata": {},
   "outputs": [],
   "source": []
  },
  {
   "cell_type": "code",
   "execution_count": null,
   "id": "ea42468f",
   "metadata": {},
   "outputs": [],
   "source": []
  },
  {
   "cell_type": "code",
   "execution_count": 122,
   "id": "1136b4fd",
   "metadata": {},
   "outputs": [],
   "source": [
    "source_name = 'consumer_device_28_data_user_10' # Remplacer par le nom de la source\n"
   ]
  },
  {
   "cell_type": "code",
   "execution_count": null,
   "id": "7cbf4eed",
   "metadata": {},
   "outputs": [],
   "source": []
  },
  {
   "cell_type": "code",
   "execution_count": 123,
   "id": "1b61b592",
   "metadata": {},
   "outputs": [],
   "source": [
    "df= aggregated_data [aggregated_data ['Source']==source_name]"
   ]
  },
  {
   "cell_type": "code",
   "execution_count": 124,
   "id": "4c4ed53a",
   "metadata": {},
   "outputs": [],
   "source": [
    "# Convertir 'date_time' en datetime si ce n'est pas déjà fait\n",
    "df['date_time'] = pd.to_datetime(df['date_time'])\n",
    "\n",
    "# Extraire l'heure de la colonne 'date_time'\n",
    "df['hour'] = df['date_time'].dt.floor('H')  # Arrondir à l'heure la plus proche\n",
    "\n",
    "# Agréger les données par 'consumer_device', 'data_user' et 'hour' (au lieu de 'Date')\n",
    "agg_data = df.groupby([ 'hour'])[['kwh']].sum().reset_index()\n"
   ]
  },
  {
   "cell_type": "code",
   "execution_count": 125,
   "id": "6e2205e9",
   "metadata": {},
   "outputs": [],
   "source": [
    "complete_data=agg_data.copy()"
   ]
  },
  {
   "cell_type": "code",
   "execution_count": 126,
   "id": "356aefbb",
   "metadata": {},
   "outputs": [],
   "source": [
    "#complete_data=complete_data [complete_data ['Source']==source_name]"
   ]
  },
  {
   "cell_type": "code",
   "execution_count": 127,
   "id": "f172b3fb",
   "metadata": {},
   "outputs": [],
   "source": [
    "\n",
    "complete_data.rename(columns={'hour': 'Date'}, inplace=True)\n"
   ]
  },
  {
   "cell_type": "code",
   "execution_count": 128,
   "id": "073f89ee",
   "metadata": {},
   "outputs": [],
   "source": [
    "def climatiseur(complete_data):\n",
    "    climate_df = pd.read_excel(\"Climate Data/Kalam Climate Data.xlsx\")  # Convert to datetime\n",
    "    complete_data[\"Date\"] = pd.to_datetime(complete_data[\"Date\"])\n",
    "    climate_df[\"Date Time\"] = pd.to_datetime(climate_df[\"Date Time\"])\n",
    "\n",
    "    # Aggregate climate data to hourly level\n",
    "    climate_hourly = climate_df.groupby(climate_df[\"Date Time\"].dt.floor('H')).agg({\n",
    "        \"Temperature (°C)\": \"mean\",\n",
    "        \"Dewpoint Temperature (°C)\": \"mean\",\n",
    "        \"U Wind Component (m/s)\": \"mean\",\n",
    "        \"V Wind Component (m/s)\": \"mean\",\n",
    "        \"Total Precipitation (mm)\": \"sum\",\n",
    "        \"Snowfall (mm)\": \"sum\",\n",
    "        \"Snow Cover (%)\": \"mean\",\n",
    "    }).reset_index()\n",
    "\n",
    "    # Convert 'Date' column in climate_hourly to datetime format\n",
    "    climate_hourly.rename(columns={\"Date Time\": \"Date\"}, inplace=True)\n",
    "    climate_hourly[\"Date\"] = pd.to_datetime(climate_hourly[\"Date\"])  # Ensure datetime64[ns]\n",
    "\n",
    "    # Merge with complete_data\n",
    "    complete_data[\"Date\"] = complete_data[\"Date\"].dt.floor('H')  # Ensure hourly format for merge\n",
    "    complete_data = complete_data.merge(climate_hourly, on=\"Date\", how=\"left\")\n",
    "    \n",
    "    return complete_data\n"
   ]
  },
  {
   "cell_type": "code",
   "execution_count": 129,
   "id": "f786aba0",
   "metadata": {},
   "outputs": [],
   "source": [
    "import numpy as np\n",
    "import pandas as pd\n",
    "\n",
    "def pro2(complete_data):\n",
    "\n",
    "    # Assurer que 'Date' est bien en format datetime\n",
    "    complete_data['Date'] = pd.to_datetime(complete_data['Date'])\n",
    "\n",
    "    # Extraire jour, mois, année et heure\n",
    "    complete_data['day'] = complete_data['Date'].dt.day\n",
    "    complete_data['month'] = complete_data['Date'].dt.month\n",
    "    complete_data['year'] = complete_data['Date'].dt.year\n",
    "    complete_data['hour'] = complete_data['Date'].dt.hour\n",
    "\n",
    "    # Transformation circulaire pour les jours du mois (1 à 31)\n",
    "    complete_data['day_sin'] = np.sin(2 * np.pi * complete_data['day'] / 31)\n",
    "    complete_data['day_cos'] = np.cos(2 * np.pi * complete_data['day'] / 31)\n",
    "\n",
    "    # Transformation circulaire pour les mois (1 à 12)\n",
    "    complete_data['month_sin'] = np.sin(2 * np.pi * complete_data['month'] / 12)\n",
    "    complete_data['month_cos'] = np.cos(2 * np.pi * complete_data['month'] / 12)\n",
    "\n",
    "    # Transformation circulaire pour les années (en fonction de l'année minimale présente)\n",
    "    year_min = complete_data['year'].min()\n",
    "    complete_data['year_sin'] = np.sin(\n",
    "        2 * np.pi * (complete_data['year'] - year_min) \n",
    "        / (complete_data['year'].max() - year_min + 1)\n",
    "    )\n",
    "    complete_data['year_cos'] = np.cos(\n",
    "        2 * np.pi * (complete_data['year'] - year_min) \n",
    "        / (complete_data['year'].max() - year_min + 1)\n",
    "    )\n",
    "\n",
    "    # Transformation circulaire pour l'heure (0 à 23)\n",
    "    complete_data['hour_sin'] = np.sin(2 * np.pi * complete_data['hour'] / 24)\n",
    "    complete_data['hour_cos'] = np.cos(2 * np.pi * complete_data['hour'] / 24)\n",
    "\n",
    "    # Déterminer si c'est un week-end (samedi = 5, dimanche = 6)\n",
    "    complete_data['is_weekend'] = complete_data['Date'].dt.weekday >= 5\n",
    "\n",
    "    return complete_data\n"
   ]
  },
  {
   "cell_type": "code",
   "execution_count": 130,
   "id": "6591d661",
   "metadata": {},
   "outputs": [],
   "source": [
    "\n",
    "complete_data=climatiseur(complete_data)\n"
   ]
  },
  {
   "cell_type": "code",
   "execution_count": 131,
   "id": "3f026508",
   "metadata": {},
   "outputs": [],
   "source": [
    "complete_data=pro2(complete_data)\n"
   ]
  },
  {
   "cell_type": "code",
   "execution_count": null,
   "id": "365d9e2f",
   "metadata": {},
   "outputs": [],
   "source": []
  },
  {
   "cell_type": "code",
   "execution_count": null,
   "id": "8b284591",
   "metadata": {},
   "outputs": [],
   "source": []
  },
  {
   "cell_type": "code",
   "execution_count": 132,
   "id": "23a11cd1",
   "metadata": {
    "scrolled": true
   },
   "outputs": [],
   "source": [
    "complete_data['Date'] = pd.to_datetime(complete_data['Date'], format='%Y.%m.%d %H:%M:%S')\n"
   ]
  },
  {
   "cell_type": "code",
   "execution_count": null,
   "id": "b0f78516",
   "metadata": {},
   "outputs": [],
   "source": []
  },
  {
   "cell_type": "code",
   "execution_count": 133,
   "id": "f5109bb8",
   "metadata": {},
   "outputs": [],
   "source": [
    "split_date = pd.to_datetime('2024-08-15')\n",
    "\n",
    "complete_data=complete_data[complete_data['Date']> split_date]"
   ]
  },
  {
   "cell_type": "code",
   "execution_count": 134,
   "id": "68f06964",
   "metadata": {},
   "outputs": [
    {
     "data": {
      "text/plain": [
       "[<matplotlib.lines.Line2D at 0x17e36ef6d50>]"
      ]
     },
     "execution_count": 134,
     "metadata": {},
     "output_type": "execute_result"
    },
    {
     "data": {
      "image/png": "[encoded data removed]",
      "text/plain": [
       "<Figure size 640x480 with 1 Axes>"
      ]
     },
     "metadata": {},
     "output_type": "display_data"
    }
   ],
   "source": [
    "plt.plot(complete_data['kwh'])"
   ]
  },
  {
   "cell_type": "code",
   "execution_count": null,
   "id": "f2e2ccd0",
   "metadata": {
    "scrolled": true
   },
   "outputs": [
    {
     "name": "stdout",
     "output_type": "stream",
     "text": [
      "Epoch 1/300\n",
      " 1/87 [..............................] - ETA: 10:13 - loss: 0.5865"
     ]
    }
   ],
   "source": [
    "import pandas as pd\n",
    "import numpy as np\n",
    "from sklearn.preprocessing import MinMaxScaler\n",
    "from sklearn.metrics import mean_squared_error\n",
    "from tensorflow.keras.models import Sequential, load_model\n",
    "from tensorflow.keras.layers import GRU, Dense, Dropout, BatchNormalization\n",
    "from tensorflow.keras.callbacks import EarlyStopping, ModelCheckpoint, LearningRateScheduler\n",
    "from tensorflow.keras.optimizers import Adam\n",
    "\n",
    "# 1. Chargement des données\n",
    "complete_data['Date'] = pd.to_datetime(complete_data['Date'])\n",
    "\n",
    "# Définir la date de séparation\n",
    "split_date = pd.to_datetime('2024-09-13')\n",
    "\n",
    "# Séparer les données en ensembles d'entraînement, de test et de prévision\n",
    "train_data = complete_data[complete_data['Date'] <= split_date]\n",
    "test_data = complete_data[(forcast_date >= complete_data['Date']) & (complete_data['Date'] > split_date)]\n",
    "\n",
    "# Séparer les caractéristiques (X) et la cible (y)\n",
    "X_train = train_data.drop(columns=['kwh', 'Date'])\n",
    "y_train = train_data['kwh']\n",
    "\n",
    "X_test = test_data.drop(columns=['kwh', 'Date'])\n",
    "y_test = test_data['kwh']\n",
    "\n",
    "\n",
    "# 2. Encodage des colonnes catégorielles\n",
    "\n",
    "# Vérification et encodage des colonnes catégorielles\n",
    "X_train_encoded = X_train\n",
    "X_test_encoded =X_test\n",
    "\n",
    "# Aligner les colonnes pour s'assurer qu'elles sont identiques\n",
    "X_train_encoded, X_test_encoded = X_train_encoded.align(X_test_encoded, join='left', axis=1, fill_value=0)\n",
    "\n",
    "\n",
    "# 3. Normalisation des caractéristiques et des cibles\n",
    "scaler_X = MinMaxScaler()\n",
    "scaler_y = MinMaxScaler()\n",
    "\n",
    "X_train_scaled = scaler_X.fit_transform(X_train_encoded)\n",
    "X_test_scaled = scaler_X.transform(X_test_encoded)\n",
    "\n",
    "y_train_scaled = scaler_y.fit_transform(y_train.values.reshape(-1, 1))\n",
    "y_test_scaled = scaler_y.transform(y_test.values.reshape(-1, 1))\n",
    "\n",
    "# Reshape pour GRU (batch_size, time_steps, features)\n",
    "X_train_reshaped = X_train_scaled.reshape((X_train_scaled.shape[0], 1, X_train_scaled.shape[1]))\n",
    "X_test_reshaped = X_test_scaled.reshape((X_test_scaled.shape[0], 1, X_test_scaled.shape[1]))\n",
    "\n",
    "# Fonction de planification du taux d'apprentissage\n",
    "def scheduler(epoch, lr):\n",
    "    if epoch % 50 == 0 and epoch != 0:\n",
    "        return lr * 0.5\n",
    "    return lr\n",
    "\n",
    "# 4. Construction du modèle GRU\n",
    "model = Sequential()\n",
    "\n",
    "model.add(GRU(128, activation='relu', return_sequences=True))\n",
    "model.add(BatchNormalization())\n",
    "model.add(Dropout(0.2))\n",
    "\n",
    "\n",
    "model.add(GRU(64, activation='relu', return_sequences=False))\n",
    "model.add(BatchNormalization())\n",
    "model.add(Dropout(0.2))\n",
    "\n",
    "\n",
    "model.add(Dense(32, activation='relu'))\n",
    "model.add(BatchNormalization())\n",
    "model.add(Dense(1, activation='relu'))\n",
    "\n",
    "# Compilation\n",
    "optimizer = Adam(learning_rate=0.001)\n",
    "model.compile(optimizer=optimizer, loss='mse')\n",
    "\n",
    "# Early stopping et sauvegarde du meilleur modèle\n",
    "early_stopping = EarlyStopping(monitor='val_loss', patience=20, restore_best_weights=True)\n",
    "checkpoint = ModelCheckpoint('best_gru_model.h5', monitor='val_loss', save_best_only=True, mode='min', verbose=1)\n",
    "lr_scheduler = LearningRateScheduler(scheduler)\n",
    "\n",
    "# Entraînement\n",
    "history = model.fit(\n",
    "    X_train_reshaped, y_train_scaled,\n",
    "    validation_data=(X_test_reshaped, y_test_scaled),\n",
    "    epochs=300,\n",
    "    batch_size=8,\n",
    "    callbacks=[early_stopping, checkpoint],\n",
    "    verbose=1\n",
    ")\n",
    "\n",
    "# Charger le meilleur modèle\n",
    "model = load_model('best_gru_model.h5')\n",
    "\n",
    "# Prédictions et dénormalisation\n",
    "y_pred_scaled = model.predict(X_test_reshaped).flatten()\n",
    "y_pred = scaler_y.inverse_transform(y_pred_scaled.reshape(-1, 1)).flatten()\n",
    "\n",
    "# Calcul du RMSE\n",
    "rmse = np.sqrt(mean_squared_error(y_test, y_pred))\n",
    "print(f\"RMSE: {rmse}\")\n"
   ]
  },
  {
   "cell_type": "code",
   "execution_count": null,
   "id": "5d2cc08d",
   "metadata": {},
   "outputs": [],
   "source": [
    "X_test['kwhPred']=y_pred\n",
    "X_test['kwh']=y_test\n",
    "name=source_name\n",
    "l1=list(X_test['kwhPred'])\n",
    "l2=list(X_test['kwh'] )\n",
    "rmse = np.sqrt(mean_squared_error(l1,l2))\n",
    "rmse\n",
    "\n",
    "plt.plot(l1)\n",
    "plt.plot(l2)"
   ]
  },
  {
   "cell_type": "code",
   "execution_count": null,
   "id": "633cc26f",
   "metadata": {},
   "outputs": [],
   "source": [
    "import numpy as np\n",
    "import matplotlib.pyplot as plt\n",
    "from sklearn.metrics import mean_squared_error\n",
    "\n",
    "# Convertir en numpy array si ce n'est pas déjà le cas\n",
    "l1 = np.array(l1)\n",
    "l2 = np.array(l2)\n",
    "\n",
    "# Reshaper les listes en blocs de 24 heures\n",
    "l1_reshaped = l1.reshape(-1, 24)\n",
    "l2_reshaped = l2.reshape(-1, 24)\n",
    "\n",
    "# Moyenne sur 24 heures (par jour)\n",
    "l1_daily = np.mean(l1_reshaped, axis=1)\n",
    "l2_daily = np.mean(l2_reshaped, axis=1)\n",
    "\n",
    "# Calcul du RMSE entre les moyennes journalières\n",
    "rmse_daily = np.sqrt(mean_squared_error(l1_daily, l2_daily))\n",
    "print(f\"RMSE (agrégé par 24 heures) : {rmse_daily}\")\n",
    "\n",
    "# Plot des moyennes journalières\n",
    "plt.figure(figsize=(10, 5))\n",
    "plt.plot(l1_daily, label=\"Vraies valeurs moyennées (par jour)\", marker='o')\n",
    "plt.plot(l2_daily, label=\"Prédictions moyennées (par jour)\", marker='x')\n",
    "plt.title(\"Comparaison des moyennes journalières (agrégation sur 24 heures)\")\n",
    "plt.xlabel(\"Jours\")\n",
    "plt.ylabel(\"Valeurs moyennes\")\n",
    "plt.legend()\n",
    "plt.show()\n"
   ]
  },
  {
   "cell_type": "code",
   "execution_count": 141,
   "id": "7fde80e9",
   "metadata": {},
   "outputs": [
    {
     "data": {
      "text/plain": [
       "array([0.63553345, 0.63577373, 0.80039981, 1.02086483, 1.03361823])"
      ]
     },
     "execution_count": 141,
     "metadata": {},
     "output_type": "execute_result"
    }
   ],
   "source": [
    "l1_daily "
   ]
  },
  {
   "cell_type": "code",
   "execution_count": null,
   "id": "5238fb61",
   "metadata": {},
   "outputs": [],
   "source": []
  },
  {
   "cell_type": "code",
   "execution_count": null,
   "id": "7f5fb5ce",
   "metadata": {},
   "outputs": [],
   "source": []
  }
 ],
 "metadata": {
  "kernelspec": {
   "display_name": "Python 3 (ipykernel)",
   "language": "python",
   "name": "python3"
  },
  "language_info": {
   "codemirror_mode": {
    "name": "ipython",
    "version": 3
   },
   "file_extension": ".py",
   "mimetype": "text/x-python",
   "name": "python",
   "nbconvert_exporter": "python",
   "pygments_lexer": "ipython3",
   "version": "3.11.2"
  }
 },
 "nbformat": 4,
 "nbformat_minor": 5
}
