{
  "cells": [
    {
      "cell_type": "code",
      "source": [
        "from google.colab import drive\n",
        "drive.mount('/content/drive')"
      ],
      "metadata": {
        "colab": {
          "base_uri": "https://localhost:8080/"
        },
        "id": "Tux8YZ7Yhv58",
        "outputId": "c55ec719-4279-4bd2-ca20-cc832a538e5e"
      },
      "id": "Tux8YZ7Yhv58",
      "execution_count": 3,
      "outputs": [
        {
          "output_type": "stream",
          "name": "stdout",
          "text": [
            "Mounted at /content/drive\n"
          ]
        }
      ]
    },
    {
      "cell_type": "code",
      "execution_count": 4,
      "id": "0989ab4f",
      "metadata": {
        "id": "0989ab4f",
        "papermill": {
          "duration": 3.415646,
          "end_time": "2025-03-18T07:31:23.085651",
          "exception": false,
          "start_time": "2025-03-18T07:31:19.670005",
          "status": "completed"
        },
        "tags": []
      },
      "outputs": [],
      "source": [
        "import pandas as pd\n",
        "import numpy as np\n",
        "import zipfile\n",
        "import matplotlib.pyplot as plt\n",
        "from tensorflow.keras.losses import MeanSquaredError\n",
        "from tensorflow.keras.metrics import RootMeanSquaredError\n",
        "from tensorflow.keras.optimizers import Adam\n",
        "\n",
        "import gc\n",
        "from sklearn.metrics import *\n",
        "from sklearn.linear_model import LinearRegression\n",
        "\n",
        "from tensorflow.keras.layers import InputLayer, LSTM, Dense\n",
        "from tensorflow.keras.models import Sequential\n",
        "import warnings\n",
        "warnings.filterwarnings('ignore')"
      ]
    },
    {
      "cell_type": "code",
      "execution_count": 5,
      "id": "d98a6566",
      "metadata": {
        "id": "d98a6566",
        "papermill": {
          "duration": 83.032579,
          "end_time": "2025-03-18T07:32:46.127993",
          "exception": false,
          "start_time": "2025-03-18T07:31:23.095414",
          "status": "completed"
        },
        "tags": []
      },
      "outputs": [],
      "source": [
        "aggregated_data = pd.read_csv(\"/content/drive/MyDrive/zindi/aggday.csv\")\n",
        "ss = pd.read_excel(\"/content/drive/MyDrive/zindi/Kalam Climate Data.xlsx\")"
      ]
    },
    {
      "cell_type": "code",
      "execution_count": 6,
      "id": "9a3d56f6",
      "metadata": {
        "id": "9a3d56f6",
        "outputId": "a50e212f-d166-49f3-f2c3-f884a0bfbec3",
        "papermill": {
          "duration": 0.044608,
          "end_time": "2025-03-18T07:34:55.970546",
          "exception": false,
          "start_time": "2025-03-18T07:34:55.925938",
          "status": "completed"
        },
        "tags": [],
        "colab": {
          "base_uri": "https://localhost:8080/"
        }
      },
      "outputs": [
        {
          "output_type": "stream",
          "name": "stdout",
          "text": [
            "Minimum date_time: 2023-06-03\n",
            "Maximum date_time: 2024-09-23\n"
          ]
        }
      ],
      "source": [
        "# Find the minimum and maximum date_time values\n",
        "min_date = aggregated_data['Date'].min()\n",
        "max_date = aggregated_data['Date'].max()\n",
        "\n",
        "print(f\"Minimum date_time: {min_date}\")\n",
        "print(f\"Maximum date_time: {max_date}\")"
      ]
    },
    {
      "cell_type": "code",
      "execution_count": 7,
      "id": "77534dca",
      "metadata": {
        "id": "77534dca",
        "papermill": {
          "duration": 9.758045,
          "end_time": "2025-03-18T07:35:05.745158",
          "exception": false,
          "start_time": "2025-03-18T07:34:55.987113",
          "status": "completed"
        },
        "tags": []
      },
      "outputs": [],
      "source": [
        "# Fill missing date values with 0 kwh\n",
        "\n",
        "# Create a date range\n",
        "date_rng = pd.date_range(start=min_date, end=max_date, freq='D')\n",
        "\n",
        "# Create an empty DataFrame to store the complete data\n",
        "complete_data = pd.DataFrame()\n",
        "\n",
        "# Iterate through each unique 'Source'\n",
        "for source in aggregated_data['Source'].unique():\n",
        "    # Extract data for the current 'Source'\n",
        "    source_data = aggregated_data[aggregated_data['Source'] == source].copy()\n",
        "\n",
        "    # Convert the source data Date to match the type of date_rng\n",
        "    source_data['Date'] = pd.to_datetime(source_data['Date'])\n",
        "\n",
        "    # Create a complete date range for the current 'Source'\n",
        "    source_date_rng = pd.DataFrame({'Date': date_rng})\n",
        "    source_date_rng['Source'] = source\n",
        "\n",
        "    # Merge with the existing data, filling missing 'kwh' values with 0\n",
        "    source_data = pd.merge(source_date_rng, source_data, on=['Date', 'Source'], how='left')\n",
        "    # source_data['kwh'] = source_data['kwh'].fillna(0)\n",
        "    source_data = source_data.dropna()\n",
        "    # Append to the complete data\n",
        "    complete_data = pd.concat([complete_data, source_data], ignore_index=True)"
      ]
    },
    {
      "cell_type": "code",
      "execution_count": 9,
      "id": "714884f0",
      "metadata": {
        "papermill": {
          "duration": 2.659236,
          "end_time": "2025-03-18T07:35:08.485574",
          "exception": false,
          "start_time": "2025-03-18T07:35:05.826338",
          "status": "completed"
        },
        "tags": [],
        "id": "714884f0"
      },
      "outputs": [],
      "source": [
        "### CHANGE NAME OF FOLDER AND FILES TO CORRESPOND ####\n",
        "climate_df = pd.read_excel(\"/content/drive/MyDrive/zindi/Kalam Climate Data.xlsx\")# Convert to datetime\n",
        "complete_data[\"Date\"] = pd.to_datetime(complete_data[\"Date\"])\n",
        "climate_df[\"Date Time\"] = pd.to_datetime(climate_df[\"Date Time\"])\n",
        "\n",
        "# Aggregate climate data to daily level\n",
        "climate_daily = climate_df.groupby(climate_df[\"Date Time\"].dt.date).agg({\n",
        "    \"Temperature (°C)\": \"mean\",\n",
        "    \"Dewpoint Temperature (°C)\": \"mean\",\n",
        "    \"U Wind Component (m/s)\": \"mean\",\n",
        "    \"V Wind Component (m/s)\": \"mean\",\n",
        "    \"Total Precipitation (mm)\": \"sum\",\n",
        "    \"Snowfall (mm)\": \"sum\",\n",
        "    \"Snow Cover (%)\": \"mean\",\n",
        "}).reset_index()\n",
        "\n",
        "# Convert 'Date' column in climate_daily to datetime format\n",
        "climate_daily.rename(columns={\"Date Time\": \"Date\"}, inplace=True)\n",
        "climate_daily[\"Date\"] = pd.to_datetime(climate_daily[\"Date\"])  # Ensure datetime64[ns]\n",
        "\n",
        "# Merge with complete_data\n",
        "complete_data = complete_data.merge(climate_daily, on=\"Date\", how=\"left\")"
      ]
    },
    {
      "cell_type": "code",
      "execution_count": 10,
      "id": "9f865c2f",
      "metadata": {
        "papermill": {
          "duration": 0.033198,
          "end_time": "2025-03-18T07:35:08.535725",
          "exception": false,
          "start_time": "2025-03-18T07:35:08.502527",
          "status": "completed"
        },
        "tags": [],
        "colab": {
          "base_uri": "https://localhost:8080/",
          "height": 327
        },
        "id": "9f865c2f",
        "outputId": "064a4b48-3c07-4e4d-d357-84921a68da17"
      },
      "outputs": [
        {
          "output_type": "execute_result",
          "data": {
            "text/plain": [
              "        Date                          Source       kwh  Temperature (°C)  \\\n",
              "0 2024-07-22  consumer_device_10_data_user_1  0.024330         14.719596   \n",
              "1 2024-07-23  consumer_device_10_data_user_1  0.103560         13.217268   \n",
              "2 2024-07-24  consumer_device_10_data_user_1  0.137543         12.462190   \n",
              "3 2024-07-25  consumer_device_10_data_user_1  0.121011         13.867551   \n",
              "4 2024-07-26  consumer_device_10_data_user_1  0.000000         15.572609   \n",
              "\n",
              "   Dewpoint Temperature (°C)  U Wind Component (m/s)  V Wind Component (m/s)  \\\n",
              "0                   8.280669                0.022655               -0.104998   \n",
              "1                   9.862700                0.116137               -0.077997   \n",
              "2                   9.865658                0.103451               -0.075028   \n",
              "3                   8.973798                0.066345               -0.043182   \n",
              "4                   9.434734                0.093025                0.046414   \n",
              "\n",
              "   Total Precipitation (mm)  Snowfall (mm)  Snow Cover (%)  \n",
              "0                  0.073049            0.0             0.0  \n",
              "1                  0.121921            0.0             0.0  \n",
              "2                  0.119984            0.0             0.0  \n",
              "3                  0.034283            0.0             0.0  \n",
              "4                  0.006961            0.0             0.0  "
            ],
            "text/html": [
              "\n",
              "  <div id=\"df-db93b35f-47f1-4b85-81a0-b67b820bb663\" class=\"colab-df-container\">\n",
              "    <div>\n",
              "<style scoped>\n",
              "    .dataframe tbody tr th:only-of-type {\n",
              "        vertical-align: middle;\n",
              "    }\n",
              "\n",
              "    .dataframe tbody tr th {\n",
              "        vertical-align: top;\n",
              "    }\n",
              "\n",
              "    .dataframe thead th {\n",
              "        text-align: right;\n",
              "    }\n",
              "</style>\n",
              "<table border=\"1\" class=\"dataframe\">\n",
              "  <thead>\n",
              "    <tr style=\"text-align: right;\">\n",
              "      <th></th>\n",
              "      <th>Date</th>\n",
              "      <th>Source</th>\n",
              "      <th>kwh</th>\n",
              "      <th>Temperature (°C)</th>\n",
              "      <th>Dewpoint Temperature (°C)</th>\n",
              "      <th>U Wind Component (m/s)</th>\n",
              "      <th>V Wind Component (m/s)</th>\n",
              "      <th>Total Precipitation (mm)</th>\n",
              "      <th>Snowfall (mm)</th>\n",
              "      <th>Snow Cover (%)</th>\n",
              "    </tr>\n",
              "  </thead>\n",
              "  <tbody>\n",
              "    <tr>\n",
              "      <th>0</th>\n",
              "      <td>2024-07-22</td>\n",
              "      <td>consumer_device_10_data_user_1</td>\n",
              "      <td>0.024330</td>\n",
              "      <td>14.719596</td>\n",
              "      <td>8.280669</td>\n",
              "      <td>0.022655</td>\n",
              "      <td>-0.104998</td>\n",
              "      <td>0.073049</td>\n",
              "      <td>0.0</td>\n",
              "      <td>0.0</td>\n",
              "    </tr>\n",
              "    <tr>\n",
              "      <th>1</th>\n",
              "      <td>2024-07-23</td>\n",
              "      <td>consumer_device_10_data_user_1</td>\n",
              "      <td>0.103560</td>\n",
              "      <td>13.217268</td>\n",
              "      <td>9.862700</td>\n",
              "      <td>0.116137</td>\n",
              "      <td>-0.077997</td>\n",
              "      <td>0.121921</td>\n",
              "      <td>0.0</td>\n",
              "      <td>0.0</td>\n",
              "    </tr>\n",
              "    <tr>\n",
              "      <th>2</th>\n",
              "      <td>2024-07-24</td>\n",
              "      <td>consumer_device_10_data_user_1</td>\n",
              "      <td>0.137543</td>\n",
              "      <td>12.462190</td>\n",
              "      <td>9.865658</td>\n",
              "      <td>0.103451</td>\n",
              "      <td>-0.075028</td>\n",
              "      <td>0.119984</td>\n",
              "      <td>0.0</td>\n",
              "      <td>0.0</td>\n",
              "    </tr>\n",
              "    <tr>\n",
              "      <th>3</th>\n",
              "      <td>2024-07-25</td>\n",
              "      <td>consumer_device_10_data_user_1</td>\n",
              "      <td>0.121011</td>\n",
              "      <td>13.867551</td>\n",
              "      <td>8.973798</td>\n",
              "      <td>0.066345</td>\n",
              "      <td>-0.043182</td>\n",
              "      <td>0.034283</td>\n",
              "      <td>0.0</td>\n",
              "      <td>0.0</td>\n",
              "    </tr>\n",
              "    <tr>\n",
              "      <th>4</th>\n",
              "      <td>2024-07-26</td>\n",
              "      <td>consumer_device_10_data_user_1</td>\n",
              "      <td>0.000000</td>\n",
              "      <td>15.572609</td>\n",
              "      <td>9.434734</td>\n",
              "      <td>0.093025</td>\n",
              "      <td>0.046414</td>\n",
              "      <td>0.006961</td>\n",
              "      <td>0.0</td>\n",
              "      <td>0.0</td>\n",
              "    </tr>\n",
              "  </tbody>\n",
              "</table>\n",
              "</div>\n",
              "    <div class=\"colab-df-buttons\">\n",
              "\n",
              "  <div class=\"colab-df-container\">\n",
              "    <button class=\"colab-df-convert\" onclick=\"convertToInteractive('df-db93b35f-47f1-4b85-81a0-b67b820bb663')\"\n",
              "            title=\"Convert this dataframe to an interactive table.\"\n",
              "            style=\"display:none;\">\n",
              "\n",
              "  <svg xmlns=\"http://www.w3.org/2000/svg\" height=\"24px\" viewBox=\"0 -960 960 960\">\n",
              "    <path d=\"M120-120v-720h720v720H120Zm60-500h600v-160H180v160Zm220 220h160v-160H400v160Zm0 220h160v-160H400v160ZM180-400h160v-160H180v160Zm440 0h160v-160H620v160ZM180-180h160v-160H180v160Zm440 0h160v-160H620v160Z\"/>\n",
              "  </svg>\n",
              "    </button>\n",
              "\n",
              "  <style>\n",
              "    .colab-df-container {\n",
              "      display:flex;\n",
              "      gap: 12px;\n",
              "    }\n",
              "\n",
              "    .colab-df-convert {\n",
              "      background-color: #E8F0FE;\n",
              "      border: none;\n",
              "      border-radius: 50%;\n",
              "      cursor: pointer;\n",
              "      display: none;\n",
              "      fill: #1967D2;\n",
              "      height: 32px;\n",
              "      padding: 0 0 0 0;\n",
              "      width: 32px;\n",
              "    }\n",
              "\n",
              "    .colab-df-convert:hover {\n",
              "      background-color: #E2EBFA;\n",
              "      box-shadow: 0px 1px 2px rgba(60, 64, 67, 0.3), 0px 1px 3px 1px rgba(60, 64, 67, 0.15);\n",
              "      fill: #174EA6;\n",
              "    }\n",
              "\n",
              "    .colab-df-buttons div {\n",
              "      margin-bottom: 4px;\n",
              "    }\n",
              "\n",
              "    [theme=dark] .colab-df-convert {\n",
              "      background-color: #3B4455;\n",
              "      fill: #D2E3FC;\n",
              "    }\n",
              "\n",
              "    [theme=dark] .colab-df-convert:hover {\n",
              "      background-color: #434B5C;\n",
              "      box-shadow: 0px 1px 3px 1px rgba(0, 0, 0, 0.15);\n",
              "      filter: drop-shadow(0px 1px 2px rgba(0, 0, 0, 0.3));\n",
              "      fill: #FFFFFF;\n",
              "    }\n",
              "  </style>\n",
              "\n",
              "    <script>\n",
              "      const buttonEl =\n",
              "        document.querySelector('#df-db93b35f-47f1-4b85-81a0-b67b820bb663 button.colab-df-convert');\n",
              "      buttonEl.style.display =\n",
              "        google.colab.kernel.accessAllowed ? 'block' : 'none';\n",
              "\n",
              "      async function convertToInteractive(key) {\n",
              "        const element = document.querySelector('#df-db93b35f-47f1-4b85-81a0-b67b820bb663');\n",
              "        const dataTable =\n",
              "          await google.colab.kernel.invokeFunction('convertToInteractive',\n",
              "                                                    [key], {});\n",
              "        if (!dataTable) return;\n",
              "\n",
              "        const docLinkHtml = 'Like what you see? Visit the ' +\n",
              "          '<a target=\"_blank\" href=https://colab.research.google.com/notebooks/data_table.ipynb>data table notebook</a>'\n",
              "          + ' to learn more about interactive tables.';\n",
              "        element.innerHTML = '';\n",
              "        dataTable['output_type'] = 'display_data';\n",
              "        await google.colab.output.renderOutput(dataTable, element);\n",
              "        const docLink = document.createElement('div');\n",
              "        docLink.innerHTML = docLinkHtml;\n",
              "        element.appendChild(docLink);\n",
              "      }\n",
              "    </script>\n",
              "  </div>\n",
              "\n",
              "\n",
              "<div id=\"df-c4f3b91e-1b0b-4a67-be59-8515c3487926\">\n",
              "  <button class=\"colab-df-quickchart\" onclick=\"quickchart('df-c4f3b91e-1b0b-4a67-be59-8515c3487926')\"\n",
              "            title=\"Suggest charts\"\n",
              "            style=\"display:none;\">\n",
              "\n",
              "<svg xmlns=\"http://www.w3.org/2000/svg\" height=\"24px\"viewBox=\"0 0 24 24\"\n",
              "     width=\"24px\">\n",
              "    <g>\n",
              "        <path d=\"M19 3H5c-1.1 0-2 .9-2 2v14c0 1.1.9 2 2 2h14c1.1 0 2-.9 2-2V5c0-1.1-.9-2-2-2zM9 17H7v-7h2v7zm4 0h-2V7h2v10zm4 0h-2v-4h2v4z\"/>\n",
              "    </g>\n",
              "</svg>\n",
              "  </button>\n",
              "\n",
              "<style>\n",
              "  .colab-df-quickchart {\n",
              "      --bg-color: #E8F0FE;\n",
              "      --fill-color: #1967D2;\n",
              "      --hover-bg-color: #E2EBFA;\n",
              "      --hover-fill-color: #174EA6;\n",
              "      --disabled-fill-color: #AAA;\n",
              "      --disabled-bg-color: #DDD;\n",
              "  }\n",
              "\n",
              "  [theme=dark] .colab-df-quickchart {\n",
              "      --bg-color: #3B4455;\n",
              "      --fill-color: #D2E3FC;\n",
              "      --hover-bg-color: #434B5C;\n",
              "      --hover-fill-color: #FFFFFF;\n",
              "      --disabled-bg-color: #3B4455;\n",
              "      --disabled-fill-color: #666;\n",
              "  }\n",
              "\n",
              "  .colab-df-quickchart {\n",
              "    background-color: var(--bg-color);\n",
              "    border: none;\n",
              "    border-radius: 50%;\n",
              "    cursor: pointer;\n",
              "    display: none;\n",
              "    fill: var(--fill-color);\n",
              "    height: 32px;\n",
              "    padding: 0;\n",
              "    width: 32px;\n",
              "  }\n",
              "\n",
              "  .colab-df-quickchart:hover {\n",
              "    background-color: var(--hover-bg-color);\n",
              "    box-shadow: 0 1px 2px rgba(60, 64, 67, 0.3), 0 1px 3px 1px rgba(60, 64, 67, 0.15);\n",
              "    fill: var(--button-hover-fill-color);\n",
              "  }\n",
              "\n",
              "  .colab-df-quickchart-complete:disabled,\n",
              "  .colab-df-quickchart-complete:disabled:hover {\n",
              "    background-color: var(--disabled-bg-color);\n",
              "    fill: var(--disabled-fill-color);\n",
              "    box-shadow: none;\n",
              "  }\n",
              "\n",
              "  .colab-df-spinner {\n",
              "    border: 2px solid var(--fill-color);\n",
              "    border-color: transparent;\n",
              "    border-bottom-color: var(--fill-color);\n",
              "    animation:\n",
              "      spin 1s steps(1) infinite;\n",
              "  }\n",
              "\n",
              "  @keyframes spin {\n",
              "    0% {\n",
              "      border-color: transparent;\n",
              "      border-bottom-color: var(--fill-color);\n",
              "      border-left-color: var(--fill-color);\n",
              "    }\n",
              "    20% {\n",
              "      border-color: transparent;\n",
              "      border-left-color: var(--fill-color);\n",
              "      border-top-color: var(--fill-color);\n",
              "    }\n",
              "    30% {\n",
              "      border-color: transparent;\n",
              "      border-left-color: var(--fill-color);\n",
              "      border-top-color: var(--fill-color);\n",
              "      border-right-color: var(--fill-color);\n",
              "    }\n",
              "    40% {\n",
              "      border-color: transparent;\n",
              "      border-right-color: var(--fill-color);\n",
              "      border-top-color: var(--fill-color);\n",
              "    }\n",
              "    60% {\n",
              "      border-color: transparent;\n",
              "      border-right-color: var(--fill-color);\n",
              "    }\n",
              "    80% {\n",
              "      border-color: transparent;\n",
              "      border-right-color: var(--fill-color);\n",
              "      border-bottom-color: var(--fill-color);\n",
              "    }\n",
              "    90% {\n",
              "      border-color: transparent;\n",
              "      border-bottom-color: var(--fill-color);\n",
              "    }\n",
              "  }\n",
              "</style>\n",
              "\n",
              "  <script>\n",
              "    async function quickchart(key) {\n",
              "      const quickchartButtonEl =\n",
              "        document.querySelector('#' + key + ' button');\n",
              "      quickchartButtonEl.disabled = true;  // To prevent multiple clicks.\n",
              "      quickchartButtonEl.classList.add('colab-df-spinner');\n",
              "      try {\n",
              "        const charts = await google.colab.kernel.invokeFunction(\n",
              "            'suggestCharts', [key], {});\n",
              "      } catch (error) {\n",
              "        console.error('Error during call to suggestCharts:', error);\n",
              "      }\n",
              "      quickchartButtonEl.classList.remove('colab-df-spinner');\n",
              "      quickchartButtonEl.classList.add('colab-df-quickchart-complete');\n",
              "    }\n",
              "    (() => {\n",
              "      let quickchartButtonEl =\n",
              "        document.querySelector('#df-c4f3b91e-1b0b-4a67-be59-8515c3487926 button');\n",
              "      quickchartButtonEl.style.display =\n",
              "        google.colab.kernel.accessAllowed ? 'block' : 'none';\n",
              "    })();\n",
              "  </script>\n",
              "</div>\n",
              "\n",
              "    </div>\n",
              "  </div>\n"
            ],
            "application/vnd.google.colaboratory.intrinsic+json": {
              "type": "dataframe",
              "variable_name": "complete_data"
            }
          },
          "metadata": {},
          "execution_count": 10
        }
      ],
      "source": [
        "complete_data.head()"
      ]
    },
    {
      "cell_type": "code",
      "execution_count": 11,
      "id": "a8c70add",
      "metadata": {
        "papermill": {
          "duration": 0.411963,
          "end_time": "2025-03-18T07:35:09.045848",
          "exception": false,
          "start_time": "2025-03-18T07:35:08.633885",
          "status": "completed"
        },
        "tags": [],
        "id": "a8c70add"
      },
      "outputs": [],
      "source": [
        "# Extract consumer device and data user using regex\n",
        "complete_data[\"consumer_device\"] = complete_data[\"Source\"].str.extract(r'consumer_device_(\\d+)_data_user_\\d+').astype(int)\n",
        "complete_data[\"data_user\"] = complete_data[\"Source\"].str.extract(r'consumer_device_\\d+_data_user_(\\d+)').astype(int)"
      ]
    },
    {
      "cell_type": "code",
      "execution_count": 12,
      "id": "0dc677ff",
      "metadata": {
        "papermill": {
          "duration": 0.071081,
          "end_time": "2025-03-18T07:35:09.188908",
          "exception": false,
          "start_time": "2025-03-18T07:35:09.117827",
          "status": "completed"
        },
        "tags": [],
        "id": "0dc677ff"
      },
      "outputs": [],
      "source": [
        "import pandas as pd\n",
        "\n",
        "# Convert 'Date' to datetime format if not already\n",
        "complete_data[\"Date\"] = pd.to_datetime(complete_data[\"Date\"])\n",
        "\n",
        "# Extract date features\n",
        "complete_data[\"year\"] = complete_data[\"Date\"].dt.year\n",
        "complete_data[\"month\"] = complete_data[\"Date\"].dt.month\n",
        "complete_data[\"day\"] = complete_data[\"Date\"].dt.day\n",
        "complete_data[\"day_of_week\"] = complete_data[\"Date\"].dt.dayofweek  # Monday=0, Sunday=6\n",
        "complete_data[\"week_of_year\"] = complete_data[\"Date\"].dt.isocalendar().week\n",
        "complete_data[\"quarter\"] = complete_data[\"Date\"].dt.quarter\n",
        "complete_data[\"is_weekend\"] = (complete_data[\"day_of_week\"] >= 5).astype(int)  # 1 if Sat/Sun, else 0"
      ]
    },
    {
      "cell_type": "code",
      "execution_count": 13,
      "id": "d1be101d",
      "metadata": {
        "id": "d1be101d"
      },
      "outputs": [],
      "source": [
        "complete_data = complete_data.drop(columns=['data_user'])\n"
      ]
    },
    {
      "cell_type": "code",
      "execution_count": 13,
      "id": "f3acfd39",
      "metadata": {
        "id": "f3acfd39"
      },
      "outputs": [],
      "source": []
    },
    {
      "cell_type": "code",
      "execution_count": 13,
      "id": "2bd4e90f",
      "metadata": {
        "id": "2bd4e90f"
      },
      "outputs": [],
      "source": []
    },
    {
      "cell_type": "code",
      "execution_count": 14,
      "id": "46ee0480",
      "metadata": {
        "id": "46ee0480"
      },
      "outputs": [],
      "source": [
        "complete_data['consumer_device']= complete_data['consumer_device'].astype(str)\n"
      ]
    },
    {
      "cell_type": "code",
      "source": [],
      "metadata": {
        "id": "BOmgz_uh_ZVb"
      },
      "id": "BOmgz_uh_ZVb",
      "execution_count": 14,
      "outputs": []
    },
    {
      "cell_type": "code",
      "source": [],
      "metadata": {
        "id": "9nS8oOTW_Ayd"
      },
      "id": "9nS8oOTW_Ayd",
      "execution_count": 14,
      "outputs": []
    },
    {
      "cell_type": "code",
      "source": [],
      "metadata": {
        "id": "Cj3NFapW_AvW"
      },
      "id": "Cj3NFapW_AvW",
      "execution_count": 14,
      "outputs": []
    },
    {
      "cell_type": "code",
      "execution_count": 15,
      "id": "4b10ce02",
      "metadata": {
        "id": "4b10ce02"
      },
      "outputs": [],
      "source": [
        "# Charger les CSV\n",
        "df_voltage = pd.read_csv(\"/content/drive/MyDrive/zindi/source_to_voltage.csv\")\n",
        "df_type_voltage = pd.read_csv(\"/content/drive/MyDrive/zindi/source_to_type_voltage.csv\")\n",
        "\n",
        "# Fusionner avec df3 (qui contient 'Source')\n",
        "complete_data = complete_data.merge(df_voltage, on='Source', how='left')\n",
        "complete_data =complete_data.merge(df_type_voltage, on='Source', how='left')"
      ]
    },
    {
      "cell_type": "code",
      "source": [
        "complete_data=complete_data.dropna()"
      ],
      "metadata": {
        "id": "Fgu2qW3i-3Kh"
      },
      "id": "Fgu2qW3i-3Kh",
      "execution_count": 16,
      "outputs": []
    },
    {
      "cell_type": "code",
      "source": [
        "devices_to_remove = [\n",
        "    \"consumer_device_1\",\n",
        "    \"consumer_device_7\",\n",
        "    \"consumer_device_19\",\n",
        "    \"consumer_device_20\",\n",
        "    \"consumer_device_38\",\n",
        "    \"consumer_device_39\"\n",
        "]\n",
        "\n",
        "# Suppression des lignes\n",
        "complete_data = complete_data[~complete_data[\"consumer_device\"].isin(devices_to_remove)]\n"
      ],
      "metadata": {
        "id": "D72ZQLy1EAr4"
      },
      "id": "D72ZQLy1EAr4",
      "execution_count": 17,
      "outputs": []
    },
    {
      "cell_type": "code",
      "source": [
        "\n",
        "def preprocess(X):\n",
        "  X[:, :, 0] = (X[:, :, 0] - temp_training_mean) / temp_training_std\n",
        "  return X"
      ],
      "metadata": {
        "id": "9udqnWldEApS"
      },
      "id": "9udqnWldEApS",
      "execution_count": null,
      "outputs": []
    },
    {
      "cell_type": "code",
      "source": [
        "def df_to_X_y2(df, window_size=30):\n",
        "  df_as_np = df.to_numpy()\n",
        "  X = []\n",
        "  y = []\n",
        "  for i in range(len(df_as_np)-window_size):\n",
        "    row = [r for r in df_as_np[i:i+window_size]]\n",
        "    X.append(row)\n",
        "    label = df_as_np[i+window_size][0]\n",
        "    y.append(label)\n",
        "  return np.array(X), np.array(y)"
      ],
      "metadata": {
        "id": "YiWCujVgEAl8"
      },
      "id": "YiWCujVgEAl8",
      "execution_count": null,
      "outputs": []
    },
    {
      "cell_type": "code",
      "source": [
        "from sklearn.metrics import mean_squared_error as mse\n",
        "\n",
        "def plot_predictions1(model, X, y, start=0, end=100):\n",
        "  predictions = model.predict(X).flatten()\n",
        "  df = pd.DataFrame(data={'Predictions': predictions, 'Actuals':y})\n",
        "  plt.plot(df['Predictions'][start:end])\n",
        "  plt.plot(df['Actuals'][start:end])\n",
        "  return df, mse(predictions, y)"
      ],
      "metadata": {
        "id": "Oel49XngmpQq"
      },
      "id": "Oel49XngmpQq",
      "execution_count": null,
      "outputs": []
    },
    {
      "cell_type": "code",
      "source": [
        "df=complete_data[complete_data['Source']=='consumer_device_37_data_user_7']"
      ],
      "metadata": {
        "id": "WXBzCnJRWWdC"
      },
      "id": "WXBzCnJRWWdC",
      "execution_count": 111,
      "outputs": []
    },
    {
      "cell_type": "code",
      "source": [],
      "metadata": {
        "id": "Oiq3fGXvmotw"
      },
      "id": "Oiq3fGXvmotw",
      "execution_count": 111,
      "outputs": []
    },
    {
      "cell_type": "code",
      "source": [
        "complete_data.columns"
      ],
      "metadata": {
        "id": "EL9YeEsfbnDG",
        "colab": {
          "base_uri": "https://localhost:8080/"
        },
        "outputId": "0211d48d-ccd3-4061-855d-c141e29866b0"
      },
      "id": "EL9YeEsfbnDG",
      "execution_count": 112,
      "outputs": [
        {
          "output_type": "execute_result",
          "data": {
            "text/plain": [
              "Index(['Date', 'Source', 'kwh', 'Temperature (°C)',\n",
              "       'Dewpoint Temperature (°C)', 'U Wind Component (m/s)',\n",
              "       'V Wind Component (m/s)', 'Total Precipitation (mm)', 'Snowfall (mm)',\n",
              "       'Snow Cover (%)', 'consumer_device', 'year', 'month', 'day',\n",
              "       'day_of_week', 'week_of_year', 'quarter', 'is_weekend', 'Voltage',\n",
              "       'Type_Voltage'],\n",
              "      dtype='object')"
            ]
          },
          "metadata": {},
          "execution_count": 112
        }
      ]
    },
    {
      "cell_type": "code",
      "source": [
        "df.index = pd.to_datetime(df['Date'], format='%Y.%m.%s')\n",
        "temp = df[['kwh', 'Temperature (°C)',\n",
        "      'Dewpoint Temperature (°C)', 'U Wind Component (m/s)',\n",
        "      'V Wind Component (m/s)', 'Total Precipitation (mm)', 'Snowfall (mm)',\n",
        "      'Snow Cover (%)'   ]].copy()\n",
        "temp_df = temp.copy()\n",
        "temp_df['Seconds'] = temp_df.index.map(pd.Timestamp.timestamp)\n",
        "temp_df['Seconds'] = temp_df.index.map(pd.Timestamp.timestamp)\n",
        "day = 24*60*60\n",
        "year = (365.2425)*day\n",
        "\n",
        "temp_df['Day sin'] = np.sin(temp_df['Seconds'] * (2 * np.pi / day))\n",
        "temp_df['Day cos'] = np.cos(temp_df['Seconds'] * (2 * np.pi / day))\n",
        "temp_df['Year sin'] = np.sin(temp_df['Seconds'] * (2 * np.pi / year))\n",
        "temp_df['Year cos'] = np.cos(temp_df['Seconds'] * (2 * np.pi / year))\n",
        "temp_df = temp_df.drop('Seconds', axis=1)\n",
        "X2, y2 = df_to_X_y2(temp_df,20)\n",
        "X2.shape, y2.shape\n"
      ],
      "metadata": {
        "id": "AxcXUtefWWam",
        "colab": {
          "base_uri": "https://localhost:8080/"
        },
        "outputId": "1b55343c-d1b2-4319-f76a-72a452d49ab0"
      },
      "id": "AxcXUtefWWam",
      "execution_count": 113,
      "outputs": [
        {
          "output_type": "execute_result",
          "data": {
            "text/plain": [
              "((339, 20, 12), (339,))"
            ]
          },
          "metadata": {},
          "execution_count": 113
        }
      ]
    },
    {
      "cell_type": "code",
      "source": [
        "tr=X2.shape[0]-50\n",
        "ival= X2.shape[0] -30\n",
        "\n",
        "X2_train, y2_train = X2[:tr], y2[:tr]\n",
        "X2_val, y2_val = X2[tr:ival], y2[tr:ival]\n",
        "X2_test, y2_test = X2[ival:], y2[ival:]\n",
        "X2_train.shape, y2_train.shape, X2_val.shape, y2_val.shape, X2_test.shape, y2_test.shape\n",
        "temp_training_mean = np.mean(X2_train[:, :, 0])\n",
        "temp_training_std = np.std(X2_train[:, :, 0])\n",
        "\n",
        "preprocess(X2_train)\n",
        "preprocess(X2_val)\n",
        "preprocess(X2_test)\n",
        "print(\"\")\n",
        "\n",
        "\n",
        "model4 = Sequential()\n",
        "model4.add(InputLayer((X2_train.shape[1], X2_train.shape[2])))\n",
        "model4.add(LSTM(64))\n",
        "model4.add(Dense(32, 'relu'))\n",
        "model4.add(Dense(16, 'relu'))\n",
        "\n",
        "model4.add(Dense(1, 'linear'))\n",
        "\n",
        "model4.summary()\n",
        "\n",
        "# Compiler le modèle\n",
        "model4.compile(loss=MeanSquaredError(),\n",
        "              optimizer=Adam(learning_rate=0.001),\n",
        "              metrics=[RootMeanSquaredError()])\n",
        "\n",
        "model4.fit(X2_train, y2_train, validation_data=(X2_val, y2_val), epochs=10)\n",
        "plot_predictions1(model4, X2_test, y2_test)"
      ],
      "metadata": {
        "id": "bYILJhS2XYS2",
        "colab": {
          "base_uri": "https://localhost:8080/",
          "height": 1000
        },
        "outputId": "701db820-111a-467b-f51f-26ebf0e4b27c"
      },
      "id": "bYILJhS2XYS2",
      "execution_count": 114,
      "outputs": [
        {
          "output_type": "stream",
          "name": "stdout",
          "text": [
            "\n"
          ]
        },
        {
          "output_type": "display_data",
          "data": {
            "text/plain": [
              "\u001b[1mModel: \"sequential_10\"\u001b[0m\n"
            ],
            "text/html": [
              "<pre style=\"white-space:pre;overflow-x:auto;line-height:normal;font-family:Menlo,'DejaVu Sans Mono',consolas,'Courier New',monospace\"><span style=\"font-weight: bold\">Model: \"sequential_10\"</span>\n",
              "</pre>\n"
            ]
          },
          "metadata": {}
        },
        {
          "output_type": "display_data",
          "data": {
            "text/plain": [
              "┏━━━━━━━━━━━━━━━━━━━━━━━━━━━━━━━━━━━━━━┳━━━━━━━━━━━━━━━━━━━━━━━━━━━━━┳━━━━━━━━━━━━━━━━━┓\n",
              "┃\u001b[1m \u001b[0m\u001b[1mLayer (type)                        \u001b[0m\u001b[1m \u001b[0m┃\u001b[1m \u001b[0m\u001b[1mOutput Shape               \u001b[0m\u001b[1m \u001b[0m┃\u001b[1m \u001b[0m\u001b[1m        Param #\u001b[0m\u001b[1m \u001b[0m┃\n",
              "┡━━━━━━━━━━━━━━━━━━━━━━━━━━━━━━━━━━━━━━╇━━━━━━━━━━━━━━━━━━━━━━━━━━━━━╇━━━━━━━━━━━━━━━━━┩\n",
              "│ lstm_10 (\u001b[38;5;33mLSTM\u001b[0m)                       │ (\u001b[38;5;45mNone\u001b[0m, \u001b[38;5;34m64\u001b[0m)                  │          \u001b[38;5;34m19,712\u001b[0m │\n",
              "├──────────────────────────────────────┼─────────────────────────────┼─────────────────┤\n",
              "│ dense_30 (\u001b[38;5;33mDense\u001b[0m)                     │ (\u001b[38;5;45mNone\u001b[0m, \u001b[38;5;34m32\u001b[0m)                  │           \u001b[38;5;34m2,080\u001b[0m │\n",
              "├──────────────────────────────────────┼─────────────────────────────┼─────────────────┤\n",
              "│ dense_31 (\u001b[38;5;33mDense\u001b[0m)                     │ (\u001b[38;5;45mNone\u001b[0m, \u001b[38;5;34m16\u001b[0m)                  │             \u001b[38;5;34m528\u001b[0m │\n",
              "├──────────────────────────────────────┼─────────────────────────────┼─────────────────┤\n",
              "│ dense_32 (\u001b[38;5;33mDense\u001b[0m)                     │ (\u001b[38;5;45mNone\u001b[0m, \u001b[38;5;34m1\u001b[0m)                   │              \u001b[38;5;34m17\u001b[0m │\n",
              "└──────────────────────────────────────┴─────────────────────────────┴─────────────────┘\n"
            ],
            "text/html": [
              "<pre style=\"white-space:pre;overflow-x:auto;line-height:normal;font-family:Menlo,'DejaVu Sans Mono',consolas,'Courier New',monospace\">┏━━━━━━━━━━━━━━━━━━━━━━━━━━━━━━━━━━━━━━┳━━━━━━━━━━━━━━━━━━━━━━━━━━━━━┳━━━━━━━━━━━━━━━━━┓\n",
              "┃<span style=\"font-weight: bold\"> Layer (type)                         </span>┃<span style=\"font-weight: bold\"> Output Shape                </span>┃<span style=\"font-weight: bold\">         Param # </span>┃\n",
              "┡━━━━━━━━━━━━━━━━━━━━━━━━━━━━━━━━━━━━━━╇━━━━━━━━━━━━━━━━━━━━━━━━━━━━━╇━━━━━━━━━━━━━━━━━┩\n",
              "│ lstm_10 (<span style=\"color: #0087ff; text-decoration-color: #0087ff\">LSTM</span>)                       │ (<span style=\"color: #00d7ff; text-decoration-color: #00d7ff\">None</span>, <span style=\"color: #00af00; text-decoration-color: #00af00\">64</span>)                  │          <span style=\"color: #00af00; text-decoration-color: #00af00\">19,712</span> │\n",
              "├──────────────────────────────────────┼─────────────────────────────┼─────────────────┤\n",
              "│ dense_30 (<span style=\"color: #0087ff; text-decoration-color: #0087ff\">Dense</span>)                     │ (<span style=\"color: #00d7ff; text-decoration-color: #00d7ff\">None</span>, <span style=\"color: #00af00; text-decoration-color: #00af00\">32</span>)                  │           <span style=\"color: #00af00; text-decoration-color: #00af00\">2,080</span> │\n",
              "├──────────────────────────────────────┼─────────────────────────────┼─────────────────┤\n",
              "│ dense_31 (<span style=\"color: #0087ff; text-decoration-color: #0087ff\">Dense</span>)                     │ (<span style=\"color: #00d7ff; text-decoration-color: #00d7ff\">None</span>, <span style=\"color: #00af00; text-decoration-color: #00af00\">16</span>)                  │             <span style=\"color: #00af00; text-decoration-color: #00af00\">528</span> │\n",
              "├──────────────────────────────────────┼─────────────────────────────┼─────────────────┤\n",
              "│ dense_32 (<span style=\"color: #0087ff; text-decoration-color: #0087ff\">Dense</span>)                     │ (<span style=\"color: #00d7ff; text-decoration-color: #00d7ff\">None</span>, <span style=\"color: #00af00; text-decoration-color: #00af00\">1</span>)                   │              <span style=\"color: #00af00; text-decoration-color: #00af00\">17</span> │\n",
              "└──────────────────────────────────────┴─────────────────────────────┴─────────────────┘\n",
              "</pre>\n"
            ]
          },
          "metadata": {}
        },
        {
          "output_type": "display_data",
          "data": {
            "text/plain": [
              "\u001b[1m Total params: \u001b[0m\u001b[38;5;34m22,337\u001b[0m (87.25 KB)\n"
            ],
            "text/html": [
              "<pre style=\"white-space:pre;overflow-x:auto;line-height:normal;font-family:Menlo,'DejaVu Sans Mono',consolas,'Courier New',monospace\"><span style=\"font-weight: bold\"> Total params: </span><span style=\"color: #00af00; text-decoration-color: #00af00\">22,337</span> (87.25 KB)\n",
              "</pre>\n"
            ]
          },
          "metadata": {}
        },
        {
          "output_type": "display_data",
          "data": {
            "text/plain": [
              "\u001b[1m Trainable params: \u001b[0m\u001b[38;5;34m22,337\u001b[0m (87.25 KB)\n"
            ],
            "text/html": [
              "<pre style=\"white-space:pre;overflow-x:auto;line-height:normal;font-family:Menlo,'DejaVu Sans Mono',consolas,'Courier New',monospace\"><span style=\"font-weight: bold\"> Trainable params: </span><span style=\"color: #00af00; text-decoration-color: #00af00\">22,337</span> (87.25 KB)\n",
              "</pre>\n"
            ]
          },
          "metadata": {}
        },
        {
          "output_type": "display_data",
          "data": {
            "text/plain": [
              "\u001b[1m Non-trainable params: \u001b[0m\u001b[38;5;34m0\u001b[0m (0.00 B)\n"
            ],
            "text/html": [
              "<pre style=\"white-space:pre;overflow-x:auto;line-height:normal;font-family:Menlo,'DejaVu Sans Mono',consolas,'Courier New',monospace\"><span style=\"font-weight: bold\"> Non-trainable params: </span><span style=\"color: #00af00; text-decoration-color: #00af00\">0</span> (0.00 B)\n",
              "</pre>\n"
            ]
          },
          "metadata": {}
        },
        {
          "output_type": "stream",
          "name": "stdout",
          "text": [
            "Epoch 1/10\n",
            "\u001b[1m10/10\u001b[0m \u001b[32m━━━━━━━━━━━━━━━━━━━━\u001b[0m\u001b[37m\u001b[0m \u001b[1m3s\u001b[0m 52ms/step - loss: 0.0659 - root_mean_squared_error: 0.2533 - val_loss: 0.2374 - val_root_mean_squared_error: 0.4873\n",
            "Epoch 2/10\n",
            "\u001b[1m10/10\u001b[0m \u001b[32m━━━━━━━━━━━━━━━━━━━━\u001b[0m\u001b[37m\u001b[0m \u001b[1m0s\u001b[0m 16ms/step - loss: 0.0247 - root_mean_squared_error: 0.1540 - val_loss: 0.2240 - val_root_mean_squared_error: 0.4733\n",
            "Epoch 3/10\n",
            "\u001b[1m10/10\u001b[0m \u001b[32m━━━━━━━━━━━━━━━━━━━━\u001b[0m\u001b[37m\u001b[0m \u001b[1m0s\u001b[0m 16ms/step - loss: 0.0189 - root_mean_squared_error: 0.1277 - val_loss: 0.2370 - val_root_mean_squared_error: 0.4869\n",
            "Epoch 4/10\n",
            "\u001b[1m10/10\u001b[0m \u001b[32m━━━━━━━━━━━━━━━━━━━━\u001b[0m\u001b[37m\u001b[0m \u001b[1m0s\u001b[0m 17ms/step - loss: 0.0143 - root_mean_squared_error: 0.1065 - val_loss: 0.2241 - val_root_mean_squared_error: 0.4734\n",
            "Epoch 5/10\n",
            "\u001b[1m10/10\u001b[0m \u001b[32m━━━━━━━━━━━━━━━━━━━━\u001b[0m\u001b[37m\u001b[0m \u001b[1m0s\u001b[0m 21ms/step - loss: 0.0111 - root_mean_squared_error: 0.0925 - val_loss: 0.2254 - val_root_mean_squared_error: 0.4748\n",
            "Epoch 6/10\n",
            "\u001b[1m10/10\u001b[0m \u001b[32m━━━━━━━━━━━━━━━━━━━━\u001b[0m\u001b[37m\u001b[0m \u001b[1m0s\u001b[0m 16ms/step - loss: 0.0110 - root_mean_squared_error: 0.0910 - val_loss: 0.2205 - val_root_mean_squared_error: 0.4696\n",
            "Epoch 7/10\n",
            "\u001b[1m10/10\u001b[0m \u001b[32m━━━━━━━━━━━━━━━━━━━━\u001b[0m\u001b[37m\u001b[0m \u001b[1m0s\u001b[0m 16ms/step - loss: 0.0114 - root_mean_squared_error: 0.1003 - val_loss: 0.2203 - val_root_mean_squared_error: 0.4693\n",
            "Epoch 8/10\n",
            "\u001b[1m10/10\u001b[0m \u001b[32m━━━━━━━━━━━━━━━━━━━━\u001b[0m\u001b[37m\u001b[0m \u001b[1m0s\u001b[0m 23ms/step - loss: 0.0179 - root_mean_squared_error: 0.1168 - val_loss: 0.2225 - val_root_mean_squared_error: 0.4717\n",
            "Epoch 9/10\n",
            "\u001b[1m10/10\u001b[0m \u001b[32m━━━━━━━━━━━━━━━━━━━━\u001b[0m\u001b[37m\u001b[0m \u001b[1m0s\u001b[0m 29ms/step - loss: 0.0188 - root_mean_squared_error: 0.1228 - val_loss: 0.2184 - val_root_mean_squared_error: 0.4673\n",
            "Epoch 10/10\n",
            "\u001b[1m10/10\u001b[0m \u001b[32m━━━━━━━━━━━━━━━━━━━━\u001b[0m\u001b[37m\u001b[0m \u001b[1m1s\u001b[0m 26ms/step - loss: 0.0176 - root_mean_squared_error: 0.1148 - val_loss: 0.2186 - val_root_mean_squared_error: 0.4676\n",
            "\u001b[1m1/1\u001b[0m \u001b[32m━━━━━━━━━━━━━━━━━━━━\u001b[0m\u001b[37m\u001b[0m \u001b[1m0s\u001b[0m 288ms/step\n"
          ]
        },
        {
          "output_type": "execute_result",
          "data": {
            "text/plain": [
              "(    Predictions   Actuals\n",
              " 0      0.151831  0.000409\n",
              " 1      0.166447  0.000141\n",
              " 2      0.102685  0.005495\n",
              " 3      0.040167  0.007396\n",
              " 4      0.013565  0.013002\n",
              " 5      0.026027  0.000000\n",
              " 6     -0.024224  0.000000\n",
              " 7      0.023478  0.000202\n",
              " 8      0.051908  0.000000\n",
              " 9     -0.016454  0.000000\n",
              " 10    -0.080979  0.026808\n",
              " 11    -0.007746  0.044539\n",
              " 12     0.123277  0.646289\n",
              " 13     0.114550  0.006990\n",
              " 14     0.069946  0.008050\n",
              " 15     0.070441  0.012042\n",
              " 16     0.069117  0.000000\n",
              " 17     0.023362  0.000000\n",
              " 18     0.009538  0.027071\n",
              " 19     0.084441  0.048189\n",
              " 20     0.113408  0.055273\n",
              " 21     0.016613  0.070990\n",
              " 22    -0.055815  0.014712\n",
              " 23    -0.058830  0.000000\n",
              " 24    -0.069217  0.000000\n",
              " 25    -0.032752  0.000000\n",
              " 26     0.060968  0.000000\n",
              " 27     0.104363  0.000000\n",
              " 28     0.130031  0.000000\n",
              " 29     0.127708  0.000000,\n",
              " 0.014932916512519224)"
            ]
          },
          "metadata": {},
          "execution_count": 114
        },
        {
          "output_type": "display_data",
          "data": {
            "text/plain": [
              "<Figure size 640x480 with 1 Axes>"
            ],
            "image/png": "[encoded data removed]"
          },
          "metadata": {}
        }
      ]
    },
    {
      "cell_type": "code",
      "source": [],
      "metadata": {
        "id": "ZK2-OS3aXkgL"
      },
      "id": "ZK2-OS3aXkgL",
      "execution_count": 77,
      "outputs": []
    }
  ],
  "metadata": {
    "colab": {
      "provenance": [],
      "gpuType": "T4"
    },
    "kaggle": {
      "accelerator": "none",
      "dataSources": [
        {
          "datasetId": 6805604,
          "sourceId": 10942744,
          "sourceType": "datasetVersion"
        }
      ],
      "dockerImageVersionId": 30918,
      "isGpuEnabled": false,
      "isInternetEnabled": true,
      "language": "python",
      "sourceType": "notebook"
    },
    "kernelspec": {
      "display_name": "Python 3",
      "name": "python3"
    },
    "language_info": {
      "codemirror_mode": {
        "name": "ipython",
        "version": 3
      },
      "file_extension": ".py",
      "mimetype": "text/x-python",
      "name": "python",
      "nbconvert_exporter": "python",
      "pygments_lexer": "ipython3",
      "version": "3.11.2"
    },
    "papermill": {
      "default_parameters": {},
      "duration": 344.186984,
      "end_time": "2025-03-18T07:36:55.686094",
      "environment_variables": {},
      "exception": null,
      "input_path": "__notebook__.ipynb",
      "output_path": "__notebook__.ipynb",
      "parameters": {},
      "start_time": "2025-03-18T07:31:11.499110",
      "version": "2.6.0"
    },
    "accelerator": "GPU"
  },
  "nbformat": 4,
  "nbformat_minor": 5
}